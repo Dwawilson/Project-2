{
 "cells": [
  {
   "cell_type": "markdown",
   "metadata": {},
   "source": [
    "# Will the Ad be clicked?"
   ]
  },
  {
   "cell_type": "markdown",
   "metadata": {},
   "source": [
    "## Installing libraries, dependencies, and data"
   ]
  },
  {
   "cell_type": "code",
   "execution_count": 42,
   "metadata": {},
   "outputs": [],
   "source": [
    "# Import the required libraries and dependencies\n",
    "import pandas as pd\n",
    "from sklearn.model_selection import train_test_split\n",
    "import numpy as np\n",
    "from sklearn.preprocessing import OneHotEncoder, OrdinalEncoder"
   ]
  },
  {
   "cell_type": "code",
   "execution_count": 43,
   "metadata": {},
   "outputs": [
    {
     "data": {
      "text/html": [
       "<div>\n",
       "<style scoped>\n",
       "    .dataframe tbody tr th:only-of-type {\n",
       "        vertical-align: middle;\n",
       "    }\n",
       "\n",
       "    .dataframe tbody tr th {\n",
       "        vertical-align: top;\n",
       "    }\n",
       "\n",
       "    .dataframe thead th {\n",
       "        text-align: right;\n",
       "    }\n",
       "</style>\n",
       "<table border=\"1\" class=\"dataframe\">\n",
       "  <thead>\n",
       "    <tr style=\"text-align: right;\">\n",
       "      <th></th>\n",
       "      <th>Age</th>\n",
       "      <th>Gender</th>\n",
       "      <th>Income</th>\n",
       "      <th>Location</th>\n",
       "      <th>Ad Type</th>\n",
       "      <th>Ad Topic</th>\n",
       "      <th>Ad Placement</th>\n",
       "      <th>Clicks</th>\n",
       "      <th>Click Time</th>\n",
       "      <th>Conversion Rate</th>\n",
       "      <th>CTR</th>\n",
       "    </tr>\n",
       "  </thead>\n",
       "  <tbody>\n",
       "    <tr>\n",
       "      <th>9995</th>\n",
       "      <td>7</td>\n",
       "      <td>Male</td>\n",
       "      <td>69925.29</td>\n",
       "      <td>Rural</td>\n",
       "      <td>Text</td>\n",
       "      <td>Fashion</td>\n",
       "      <td>Social Media</td>\n",
       "      <td>5</td>\n",
       "      <td>2023-05-31 20:45:56.927349</td>\n",
       "      <td>0.2460</td>\n",
       "      <td>0.1045</td>\n",
       "    </tr>\n",
       "    <tr>\n",
       "      <th>9996</th>\n",
       "      <td>35</td>\n",
       "      <td>Male</td>\n",
       "      <td>42182.75</td>\n",
       "      <td>Urban</td>\n",
       "      <td>Native</td>\n",
       "      <td>Technology</td>\n",
       "      <td>Website</td>\n",
       "      <td>9</td>\n",
       "      <td>2023-09-01 20:45:56.927349</td>\n",
       "      <td>0.2664</td>\n",
       "      <td>0.0407</td>\n",
       "    </tr>\n",
       "    <tr>\n",
       "      <th>9997</th>\n",
       "      <td>42</td>\n",
       "      <td>Male</td>\n",
       "      <td>55084.12</td>\n",
       "      <td>Suburban</td>\n",
       "      <td>Text</td>\n",
       "      <td>Finance</td>\n",
       "      <td>Search Engine</td>\n",
       "      <td>3</td>\n",
       "      <td>2023-11-15 20:45:56.927349</td>\n",
       "      <td>0.2354</td>\n",
       "      <td>0.0390</td>\n",
       "    </tr>\n",
       "    <tr>\n",
       "      <th>9998</th>\n",
       "      <td>34</td>\n",
       "      <td>Male</td>\n",
       "      <td>39382.80</td>\n",
       "      <td>Rural</td>\n",
       "      <td>Native</td>\n",
       "      <td>Technology</td>\n",
       "      <td>Social Media</td>\n",
       "      <td>4</td>\n",
       "      <td>2023-05-23 20:45:56.927349</td>\n",
       "      <td>0.1725</td>\n",
       "      <td>0.0455</td>\n",
       "    </tr>\n",
       "    <tr>\n",
       "      <th>9999</th>\n",
       "      <td>54</td>\n",
       "      <td>Female</td>\n",
       "      <td>66441.59</td>\n",
       "      <td>Suburban</td>\n",
       "      <td>Banner</td>\n",
       "      <td>Technology</td>\n",
       "      <td>Search Engine</td>\n",
       "      <td>2</td>\n",
       "      <td>2023-11-21 20:45:56.927349</td>\n",
       "      <td>0.0307</td>\n",
       "      <td>0.0323</td>\n",
       "    </tr>\n",
       "  </tbody>\n",
       "</table>\n",
       "</div>"
      ],
      "text/plain": [
       "      Age  Gender    Income  Location Ad Type    Ad Topic   Ad Placement  \\\n",
       "9995    7    Male  69925.29     Rural    Text     Fashion   Social Media   \n",
       "9996   35    Male  42182.75     Urban  Native  Technology        Website   \n",
       "9997   42    Male  55084.12  Suburban    Text     Finance  Search Engine   \n",
       "9998   34    Male  39382.80     Rural  Native  Technology   Social Media   \n",
       "9999   54  Female  66441.59  Suburban  Banner  Technology  Search Engine   \n",
       "\n",
       "      Clicks                  Click Time  Conversion Rate     CTR  \n",
       "9995       5  2023-05-31 20:45:56.927349           0.2460  0.1045  \n",
       "9996       9  2023-09-01 20:45:56.927349           0.2664  0.0407  \n",
       "9997       3  2023-11-15 20:45:56.927349           0.2354  0.0390  \n",
       "9998       4  2023-05-23 20:45:56.927349           0.1725  0.0455  \n",
       "9999       2  2023-11-21 20:45:56.927349           0.0307  0.0323  "
      ]
     },
     "execution_count": 43,
     "metadata": {},
     "output_type": "execute_result"
    }
   ],
   "source": [
    "# Read csv file as DataFrame, with the first column as row index\n",
    "df = pd.read_csv(\"Dataset_Ads.csv\")\n",
    "\n",
    "# Preview the dataset\n",
    "df.tail()"
   ]
  },
  {
   "cell_type": "markdown",
   "metadata": {},
   "source": [
    "## Data Cleanup and Preparation"
   ]
  },
  {
   "cell_type": "code",
   "execution_count": 44,
   "metadata": {},
   "outputs": [
    {
     "data": {
      "text/plain": [
       "Age                  int64\n",
       "Gender              object\n",
       "Income             float64\n",
       "Location            object\n",
       "Ad Type             object\n",
       "Ad Topic            object\n",
       "Ad Placement        object\n",
       "Clicks               int64\n",
       "Click Time          object\n",
       "Conversion Rate    float64\n",
       "CTR                float64\n",
       "dtype: object"
      ]
     },
     "execution_count": 44,
     "metadata": {},
     "output_type": "execute_result"
    }
   ],
   "source": [
    "# Checking the data types\n",
    "df.dtypes"
   ]
  },
  {
   "cell_type": "code",
   "execution_count": 45,
   "metadata": {},
   "outputs": [
    {
     "data": {
      "text/plain": [
       "Age                0.0\n",
       "Gender             0.0\n",
       "Income             0.0\n",
       "Location           0.0\n",
       "Ad Type            0.0\n",
       "Ad Topic           0.0\n",
       "Ad Placement       0.0\n",
       "Clicks             0.0\n",
       "Click Time         0.0\n",
       "Conversion Rate    0.0\n",
       "CTR                0.0\n",
       "dtype: float64"
      ]
     },
     "execution_count": 45,
     "metadata": {},
     "output_type": "execute_result"
    }
   ],
   "source": [
    "# Checking for null values\n",
    "df.isna().sum() / len(df)"
   ]
  },
  {
   "cell_type": "code",
   "execution_count": 46,
   "metadata": {},
   "outputs": [
    {
     "data": {
      "text/html": [
       "<div>\n",
       "<style scoped>\n",
       "    .dataframe tbody tr th:only-of-type {\n",
       "        vertical-align: middle;\n",
       "    }\n",
       "\n",
       "    .dataframe tbody tr th {\n",
       "        vertical-align: top;\n",
       "    }\n",
       "\n",
       "    .dataframe thead th {\n",
       "        text-align: right;\n",
       "    }\n",
       "</style>\n",
       "<table border=\"1\" class=\"dataframe\">\n",
       "  <thead>\n",
       "    <tr style=\"text-align: right;\">\n",
       "      <th></th>\n",
       "      <th>Age</th>\n",
       "      <th>Gender</th>\n",
       "      <th>Income</th>\n",
       "      <th>Location</th>\n",
       "      <th>Ad Type</th>\n",
       "      <th>Ad Topic</th>\n",
       "      <th>Ad Placement</th>\n",
       "      <th>Clicks</th>\n",
       "      <th>Click Time</th>\n",
       "      <th>Conversion Rate</th>\n",
       "      <th>CTR</th>\n",
       "    </tr>\n",
       "  </thead>\n",
       "  <tbody>\n",
       "    <tr>\n",
       "      <th>9994</th>\n",
       "      <td>49</td>\n",
       "      <td>Female</td>\n",
       "      <td>72810.17</td>\n",
       "      <td>Rural</td>\n",
       "      <td>Banner</td>\n",
       "      <td>Technology</td>\n",
       "      <td>Website</td>\n",
       "      <td>9</td>\n",
       "      <td>2023-07-24 20:45:56.927349</td>\n",
       "      <td>0.0679</td>\n",
       "      <td>0.0443</td>\n",
       "    </tr>\n",
       "    <tr>\n",
       "      <th>9996</th>\n",
       "      <td>35</td>\n",
       "      <td>Male</td>\n",
       "      <td>42182.75</td>\n",
       "      <td>Urban</td>\n",
       "      <td>Native</td>\n",
       "      <td>Technology</td>\n",
       "      <td>Website</td>\n",
       "      <td>9</td>\n",
       "      <td>2023-09-01 20:45:56.927349</td>\n",
       "      <td>0.2664</td>\n",
       "      <td>0.0407</td>\n",
       "    </tr>\n",
       "    <tr>\n",
       "      <th>9997</th>\n",
       "      <td>42</td>\n",
       "      <td>Male</td>\n",
       "      <td>55084.12</td>\n",
       "      <td>Suburban</td>\n",
       "      <td>Text</td>\n",
       "      <td>Finance</td>\n",
       "      <td>Search Engine</td>\n",
       "      <td>3</td>\n",
       "      <td>2023-11-15 20:45:56.927349</td>\n",
       "      <td>0.2354</td>\n",
       "      <td>0.0390</td>\n",
       "    </tr>\n",
       "    <tr>\n",
       "      <th>9998</th>\n",
       "      <td>34</td>\n",
       "      <td>Male</td>\n",
       "      <td>39382.80</td>\n",
       "      <td>Rural</td>\n",
       "      <td>Native</td>\n",
       "      <td>Technology</td>\n",
       "      <td>Social Media</td>\n",
       "      <td>4</td>\n",
       "      <td>2023-05-23 20:45:56.927349</td>\n",
       "      <td>0.1725</td>\n",
       "      <td>0.0455</td>\n",
       "    </tr>\n",
       "    <tr>\n",
       "      <th>9999</th>\n",
       "      <td>54</td>\n",
       "      <td>Female</td>\n",
       "      <td>66441.59</td>\n",
       "      <td>Suburban</td>\n",
       "      <td>Banner</td>\n",
       "      <td>Technology</td>\n",
       "      <td>Search Engine</td>\n",
       "      <td>2</td>\n",
       "      <td>2023-11-21 20:45:56.927349</td>\n",
       "      <td>0.0307</td>\n",
       "      <td>0.0323</td>\n",
       "    </tr>\n",
       "  </tbody>\n",
       "</table>\n",
       "</div>"
      ],
      "text/plain": [
       "      Age  Gender    Income  Location Ad Type    Ad Topic   Ad Placement  \\\n",
       "9994   49  Female  72810.17     Rural  Banner  Technology        Website   \n",
       "9996   35    Male  42182.75     Urban  Native  Technology        Website   \n",
       "9997   42    Male  55084.12  Suburban    Text     Finance  Search Engine   \n",
       "9998   34    Male  39382.80     Rural  Native  Technology   Social Media   \n",
       "9999   54  Female  66441.59  Suburban  Banner  Technology  Search Engine   \n",
       "\n",
       "      Clicks                  Click Time  Conversion Rate     CTR  \n",
       "9994       9  2023-07-24 20:45:56.927349           0.0679  0.0443  \n",
       "9996       9  2023-09-01 20:45:56.927349           0.2664  0.0407  \n",
       "9997       3  2023-11-15 20:45:56.927349           0.2354  0.0390  \n",
       "9998       4  2023-05-23 20:45:56.927349           0.1725  0.0455  \n",
       "9999       2  2023-11-21 20:45:56.927349           0.0307  0.0323  "
      ]
     },
     "execution_count": 46,
     "metadata": {},
     "output_type": "execute_result"
    }
   ],
   "source": [
    "# Remove ages that are below 18; This is under the assumption that users below 18 are not going to be converted into sales.\n",
    "# Asked XPert Learning Assistant for code\n",
    "df = df[df[\"Age\"] >= 18]\n",
    "df.tail()"
   ]
  },
  {
   "cell_type": "code",
   "execution_count": 47,
   "metadata": {},
   "outputs": [
    {
     "data": {
      "text/plain": [
       "Age                         int64\n",
       "Gender                     object\n",
       "Income                    float64\n",
       "Location                   object\n",
       "Ad Type                    object\n",
       "Ad Topic                   object\n",
       "Ad Placement               object\n",
       "Clicks                      int64\n",
       "Click Time         datetime64[ns]\n",
       "Conversion Rate           float64\n",
       "CTR                       float64\n",
       "dtype: object"
      ]
     },
     "execution_count": 47,
     "metadata": {},
     "output_type": "execute_result"
    }
   ],
   "source": [
    "# Convert Click Time into Datetime\n",
    "df[\"Click Time\"] = pd.to_datetime(df[\"Click Time\"], errors=\"coerce\")\n",
    "df.dtypes"
   ]
  },
  {
   "cell_type": "code",
   "execution_count": 48,
   "metadata": {},
   "outputs": [
    {
     "data": {
      "text/html": [
       "<div>\n",
       "<style scoped>\n",
       "    .dataframe tbody tr th:only-of-type {\n",
       "        vertical-align: middle;\n",
       "    }\n",
       "\n",
       "    .dataframe tbody tr th {\n",
       "        vertical-align: top;\n",
       "    }\n",
       "\n",
       "    .dataframe thead th {\n",
       "        text-align: right;\n",
       "    }\n",
       "</style>\n",
       "<table border=\"1\" class=\"dataframe\">\n",
       "  <thead>\n",
       "    <tr style=\"text-align: right;\">\n",
       "      <th></th>\n",
       "      <th>Age</th>\n",
       "      <th>Gender</th>\n",
       "      <th>Income</th>\n",
       "      <th>Location</th>\n",
       "      <th>Ad Type</th>\n",
       "      <th>Ad Topic</th>\n",
       "      <th>Ad Placement</th>\n",
       "    </tr>\n",
       "  </thead>\n",
       "  <tbody>\n",
       "    <tr>\n",
       "      <th>0</th>\n",
       "      <td>61</td>\n",
       "      <td>Male</td>\n",
       "      <td>35717.43</td>\n",
       "      <td>Urban</td>\n",
       "      <td>Banner</td>\n",
       "      <td>Travel</td>\n",
       "      <td>Social Media</td>\n",
       "    </tr>\n",
       "    <tr>\n",
       "      <th>1</th>\n",
       "      <td>41</td>\n",
       "      <td>Male</td>\n",
       "      <td>47453.25</td>\n",
       "      <td>Rural</td>\n",
       "      <td>Video</td>\n",
       "      <td>Travel</td>\n",
       "      <td>Search Engine</td>\n",
       "    </tr>\n",
       "    <tr>\n",
       "      <th>2</th>\n",
       "      <td>49</td>\n",
       "      <td>Female</td>\n",
       "      <td>68126.35</td>\n",
       "      <td>Rural</td>\n",
       "      <td>Text</td>\n",
       "      <td>Food</td>\n",
       "      <td>Social Media</td>\n",
       "    </tr>\n",
       "    <tr>\n",
       "      <th>3</th>\n",
       "      <td>68</td>\n",
       "      <td>Female</td>\n",
       "      <td>64585.73</td>\n",
       "      <td>Suburban</td>\n",
       "      <td>Text</td>\n",
       "      <td>Health</td>\n",
       "      <td>Website</td>\n",
       "    </tr>\n",
       "    <tr>\n",
       "      <th>4</th>\n",
       "      <td>63</td>\n",
       "      <td>Male</td>\n",
       "      <td>21109.40</td>\n",
       "      <td>Urban</td>\n",
       "      <td>Native</td>\n",
       "      <td>Fashion</td>\n",
       "      <td>Search Engine</td>\n",
       "    </tr>\n",
       "    <tr>\n",
       "      <th>...</th>\n",
       "      <td>...</td>\n",
       "      <td>...</td>\n",
       "      <td>...</td>\n",
       "      <td>...</td>\n",
       "      <td>...</td>\n",
       "      <td>...</td>\n",
       "      <td>...</td>\n",
       "    </tr>\n",
       "    <tr>\n",
       "      <th>9994</th>\n",
       "      <td>49</td>\n",
       "      <td>Female</td>\n",
       "      <td>72810.17</td>\n",
       "      <td>Rural</td>\n",
       "      <td>Banner</td>\n",
       "      <td>Technology</td>\n",
       "      <td>Website</td>\n",
       "    </tr>\n",
       "    <tr>\n",
       "      <th>9996</th>\n",
       "      <td>35</td>\n",
       "      <td>Male</td>\n",
       "      <td>42182.75</td>\n",
       "      <td>Urban</td>\n",
       "      <td>Native</td>\n",
       "      <td>Technology</td>\n",
       "      <td>Website</td>\n",
       "    </tr>\n",
       "    <tr>\n",
       "      <th>9997</th>\n",
       "      <td>42</td>\n",
       "      <td>Male</td>\n",
       "      <td>55084.12</td>\n",
       "      <td>Suburban</td>\n",
       "      <td>Text</td>\n",
       "      <td>Finance</td>\n",
       "      <td>Search Engine</td>\n",
       "    </tr>\n",
       "    <tr>\n",
       "      <th>9998</th>\n",
       "      <td>34</td>\n",
       "      <td>Male</td>\n",
       "      <td>39382.80</td>\n",
       "      <td>Rural</td>\n",
       "      <td>Native</td>\n",
       "      <td>Technology</td>\n",
       "      <td>Social Media</td>\n",
       "    </tr>\n",
       "    <tr>\n",
       "      <th>9999</th>\n",
       "      <td>54</td>\n",
       "      <td>Female</td>\n",
       "      <td>66441.59</td>\n",
       "      <td>Suburban</td>\n",
       "      <td>Banner</td>\n",
       "      <td>Technology</td>\n",
       "      <td>Search Engine</td>\n",
       "    </tr>\n",
       "  </tbody>\n",
       "</table>\n",
       "<p>8694 rows × 7 columns</p>\n",
       "</div>"
      ],
      "text/plain": [
       "      Age  Gender    Income  Location Ad Type    Ad Topic   Ad Placement\n",
       "0      61    Male  35717.43     Urban  Banner      Travel   Social Media\n",
       "1      41    Male  47453.25     Rural   Video      Travel  Search Engine\n",
       "2      49  Female  68126.35     Rural    Text        Food   Social Media\n",
       "3      68  Female  64585.73  Suburban    Text      Health        Website\n",
       "4      63    Male  21109.40     Urban  Native     Fashion  Search Engine\n",
       "...   ...     ...       ...       ...     ...         ...            ...\n",
       "9994   49  Female  72810.17     Rural  Banner  Technology        Website\n",
       "9996   35    Male  42182.75     Urban  Native  Technology        Website\n",
       "9997   42    Male  55084.12  Suburban    Text     Finance  Search Engine\n",
       "9998   34    Male  39382.80     Rural  Native  Technology   Social Media\n",
       "9999   54  Female  66441.59  Suburban  Banner  Technology  Search Engine\n",
       "\n",
       "[8694 rows x 7 columns]"
      ]
     },
     "execution_count": 48,
     "metadata": {},
     "output_type": "execute_result"
    }
   ],
   "source": [
    "# Creating a DataFrame for the X value\n",
    "X = df.drop(columns=[\"Clicks\", \"Click Time\", \"Conversion Rate\",\"CTR\"])\n",
    "X"
   ]
  },
  {
   "cell_type": "code",
   "execution_count": 49,
   "metadata": {},
   "outputs": [
    {
     "data": {
      "text/plain": [
       "0       3\n",
       "1       5\n",
       "2       4\n",
       "3       6\n",
       "4       5\n",
       "       ..\n",
       "9994    9\n",
       "9996    9\n",
       "9997    3\n",
       "9998    4\n",
       "9999    2\n",
       "Name: Clicks, Length: 8694, dtype: int64"
      ]
     },
     "execution_count": 49,
     "metadata": {},
     "output_type": "execute_result"
    }
   ],
   "source": [
    "# Creating DataFrames for the y values\n",
    "y_clicks = df[\"Clicks\"]\n",
    "y_ctr = df[\"CTR\"]\n",
    "y_clicks"
   ]
  },
  {
   "cell_type": "code",
   "execution_count": 50,
   "metadata": {},
   "outputs": [
    {
     "data": {
      "text/plain": [
       "0       0.0737\n",
       "1       0.0592\n",
       "2       0.0563\n",
       "3       0.0232\n",
       "4       0.0539\n",
       "         ...  \n",
       "9994    0.0443\n",
       "9996    0.0407\n",
       "9997    0.0390\n",
       "9998    0.0455\n",
       "9999    0.0323\n",
       "Name: CTR, Length: 8694, dtype: float64"
      ]
     },
     "execution_count": 50,
     "metadata": {},
     "output_type": "execute_result"
    }
   ],
   "source": [
    "y_ctr"
   ]
  },
  {
   "cell_type": "code",
   "execution_count": 51,
   "metadata": {},
   "outputs": [],
   "source": [
    "# Creating a OneHotEncoder column function\n",
    "def oheEncodeColumn(X_column):\n",
    "    ohe = OneHotEncoder(handle_unknown=\"ignore\", sparse_output=False)\n",
    "    encoded_column = ohe.fit(X_train[X_column].values.reshape(-1, 1))\n",
    "    return encoded_column"
   ]
  },
  {
   "cell_type": "code",
   "execution_count": 52,
   "metadata": {},
   "outputs": [
    {
     "data": {
      "text/plain": [
       "Location\n",
       "Rural       2960\n",
       "Suburban    2877\n",
       "Urban       2857\n",
       "Name: count, dtype: int64"
      ]
     },
     "execution_count": 52,
     "metadata": {},
     "output_type": "execute_result"
    }
   ],
   "source": [
    "# This is a column that might contain variables with a specific order\n",
    "X[\"Location\"].value_counts()"
   ]
  },
  {
   "cell_type": "code",
   "execution_count": 53,
   "metadata": {},
   "outputs": [],
   "source": [
    "# Creating an OrdinalEncoder column function\n",
    "def ordEncodeColumn(X_column):\n",
    "    ord = OrdinalEncoder(categories=[[\"Rural\", \"Suburban\", \"Urban\"]], encoded_missing_value=-1, handle_unknown=\"use_encoded_value\", unknown_value=-1)\n",
    "    encoded_column = ord.fit(X_train[X_column].values.reshape(-1, 1))\n",
    "    return encoded_column"
   ]
  },
  {
   "cell_type": "code",
   "execution_count": 54,
   "metadata": {},
   "outputs": [],
   "source": [
    "# Creating an encode function\n",
    "def X_preprocess(X_data):\n",
    "    # Creating an encoder for each X column\n",
    "    # and Transforming them into numpy arrays\n",
    "\n",
    "    # Gender column\n",
    "    gender_ohe = oheEncodeColumn(\"Gender\")\n",
    "    gender_encoded = gender_ohe.transform(X_data[\"Gender\"].values.reshape(-1,1))\n",
    "    # Location column\n",
    "    location_ord = ordEncodeColumn(\"Location\")\n",
    "    location_encoded = location_ord.transform(X_data[\"Location\"].values.reshape(-1,1))\n",
    "    # Ad Type column\n",
    "    type_ohe = oheEncodeColumn(\"Ad Type\")\n",
    "    type_encoded = type_ohe.transform(X_data[\"Ad Type\"].values.reshape(-1,1))\n",
    "    # Ad Topic column\n",
    "    topic_ohe = oheEncodeColumn(\"Ad Topic\")\n",
    "    topic_encoded = topic_ohe.transform(X_data[\"Ad Topic\"].values.reshape(-1,1))\n",
    "    # Ad Placement column\n",
    "    placement_ohe = oheEncodeColumn(\"Ad Placement\")\n",
    "    placement_encoded = placement_ohe.transform(X_data[\"Ad Placement\"].values.reshape(-1,1))\n",
    "\n",
    "    # Turning each numpy array into a DataFrame\n",
    "    gender_df = pd.DataFrame(gender_encoded, columns=gender_ohe.get_feature_names_out())\n",
    "    type_df = pd.DataFrame(type_encoded, columns=type_ohe.get_feature_names_out())\n",
    "    topic_df = pd.DataFrame(topic_encoded, columns=topic_ohe.get_feature_names_out())\n",
    "    placement_df = pd.DataFrame(placement_encoded, columns=placement_ohe.get_feature_names_out())\n",
    "\n",
    "    # Creating an encoded DataFrame\n",
    "    out_df = pd.concat([gender_df, type_df, topic_df, placement_df], axis=1)\n",
    "    out_df[\"Location\"] = location_encoded\n",
    "    # Return the DataFrame\n",
    "    return out_df\n"
   ]
  },
  {
   "cell_type": "code",
   "execution_count": 55,
   "metadata": {},
   "outputs": [
    {
     "data": {
      "text/html": [
       "<div>\n",
       "<style scoped>\n",
       "    .dataframe tbody tr th:only-of-type {\n",
       "        vertical-align: middle;\n",
       "    }\n",
       "\n",
       "    .dataframe tbody tr th {\n",
       "        vertical-align: top;\n",
       "    }\n",
       "\n",
       "    .dataframe thead th {\n",
       "        text-align: right;\n",
       "    }\n",
       "</style>\n",
       "<table border=\"1\" class=\"dataframe\">\n",
       "  <thead>\n",
       "    <tr style=\"text-align: right;\">\n",
       "      <th></th>\n",
       "      <th>Age</th>\n",
       "      <th>Income</th>\n",
       "    </tr>\n",
       "  </thead>\n",
       "  <tbody>\n",
       "    <tr>\n",
       "      <th>count</th>\n",
       "      <td>6520.000000</td>\n",
       "      <td>6520.000000</td>\n",
       "    </tr>\n",
       "    <tr>\n",
       "      <th>mean</th>\n",
       "      <td>37.781288</td>\n",
       "      <td>50027.491334</td>\n",
       "    </tr>\n",
       "    <tr>\n",
       "      <th>std</th>\n",
       "      <td>12.131749</td>\n",
       "      <td>20048.237170</td>\n",
       "    </tr>\n",
       "    <tr>\n",
       "      <th>min</th>\n",
       "      <td>18.000000</td>\n",
       "      <td>-38932.640000</td>\n",
       "    </tr>\n",
       "    <tr>\n",
       "      <th>25%</th>\n",
       "      <td>28.000000</td>\n",
       "      <td>36512.977500</td>\n",
       "    </tr>\n",
       "    <tr>\n",
       "      <th>50%</th>\n",
       "      <td>37.000000</td>\n",
       "      <td>50029.210000</td>\n",
       "    </tr>\n",
       "    <tr>\n",
       "      <th>75%</th>\n",
       "      <td>46.000000</td>\n",
       "      <td>63241.760000</td>\n",
       "    </tr>\n",
       "    <tr>\n",
       "      <th>max</th>\n",
       "      <td>92.000000</td>\n",
       "      <td>126635.800000</td>\n",
       "    </tr>\n",
       "  </tbody>\n",
       "</table>\n",
       "</div>"
      ],
      "text/plain": [
       "               Age         Income\n",
       "count  6520.000000    6520.000000\n",
       "mean     37.781288   50027.491334\n",
       "std      12.131749   20048.237170\n",
       "min      18.000000  -38932.640000\n",
       "25%      28.000000   36512.977500\n",
       "50%      37.000000   50029.210000\n",
       "75%      46.000000   63241.760000\n",
       "max      92.000000  126635.800000"
      ]
     },
     "execution_count": 55,
     "metadata": {},
     "output_type": "execute_result"
    }
   ],
   "source": [
    "# Sample train_test_spilt; Will delete later\n",
    "\n",
    "# Split the data into training and testing sets\n",
    "X_train, X_test, y_train, y_test = train_test_split(X, y_ctr, random_state=42)\n",
    "X_train.describe()"
   ]
  },
  {
   "cell_type": "markdown",
   "metadata": {},
   "source": [
    "## Question 1: What factors make someone more likely to click on an ad?\n",
    "Summary"
   ]
  },
  {
   "cell_type": "code",
   "execution_count": null,
   "metadata": {},
   "outputs": [],
   "source": []
  },
  {
   "cell_type": "markdown",
   "metadata": {},
   "source": [
    "## Question 2: What Regression Model is best at predicting the data?\n",
    "Summary"
   ]
  },
  {
   "cell_type": "code",
   "execution_count": null,
   "metadata": {},
   "outputs": [],
   "source": []
  },
  {
   "cell_type": "markdown",
   "metadata": {},
   "source": [
    "## Question 3: Can a Classification model predict if someone clicks on an ad?\n",
    "Summary"
   ]
  },
  {
   "cell_type": "code",
   "execution_count": 56,
   "metadata": {},
   "outputs": [
    {
     "data": {
      "text/plain": [
       "Clicks\n",
       "4     1528\n",
       "5     1512\n",
       "6     1266\n",
       "3     1202\n",
       "7      884\n",
       "2      721\n",
       "8      597\n",
       "9      344\n",
       "1      278\n",
       "10     167\n",
       "0       72\n",
       "11      72\n",
       "12      34\n",
       "13       8\n",
       "14       6\n",
       "15       2\n",
       "17       1\n",
       "Name: count, dtype: int64"
      ]
     },
     "execution_count": 56,
     "metadata": {},
     "output_type": "execute_result"
    }
   ],
   "source": [
    "df[\"Clicks\"].value_counts()"
   ]
  },
  {
   "cell_type": "code",
   "execution_count": 57,
   "metadata": {},
   "outputs": [
    {
     "data": {
      "text/html": [
       "<div>\n",
       "<style scoped>\n",
       "    .dataframe tbody tr th:only-of-type {\n",
       "        vertical-align: middle;\n",
       "    }\n",
       "\n",
       "    .dataframe tbody tr th {\n",
       "        vertical-align: top;\n",
       "    }\n",
       "\n",
       "    .dataframe thead th {\n",
       "        text-align: right;\n",
       "    }\n",
       "</style>\n",
       "<table border=\"1\" class=\"dataframe\">\n",
       "  <thead>\n",
       "    <tr style=\"text-align: right;\">\n",
       "      <th></th>\n",
       "      <th>Age</th>\n",
       "      <th>Income</th>\n",
       "    </tr>\n",
       "  </thead>\n",
       "  <tbody>\n",
       "    <tr>\n",
       "      <th>count</th>\n",
       "      <td>6520.000000</td>\n",
       "      <td>6520.000000</td>\n",
       "    </tr>\n",
       "    <tr>\n",
       "      <th>mean</th>\n",
       "      <td>37.781288</td>\n",
       "      <td>50027.491334</td>\n",
       "    </tr>\n",
       "    <tr>\n",
       "      <th>std</th>\n",
       "      <td>12.131749</td>\n",
       "      <td>20048.237170</td>\n",
       "    </tr>\n",
       "    <tr>\n",
       "      <th>min</th>\n",
       "      <td>18.000000</td>\n",
       "      <td>-38932.640000</td>\n",
       "    </tr>\n",
       "    <tr>\n",
       "      <th>25%</th>\n",
       "      <td>28.000000</td>\n",
       "      <td>36512.977500</td>\n",
       "    </tr>\n",
       "    <tr>\n",
       "      <th>50%</th>\n",
       "      <td>37.000000</td>\n",
       "      <td>50029.210000</td>\n",
       "    </tr>\n",
       "    <tr>\n",
       "      <th>75%</th>\n",
       "      <td>46.000000</td>\n",
       "      <td>63241.760000</td>\n",
       "    </tr>\n",
       "    <tr>\n",
       "      <th>max</th>\n",
       "      <td>92.000000</td>\n",
       "      <td>126635.800000</td>\n",
       "    </tr>\n",
       "  </tbody>\n",
       "</table>\n",
       "</div>"
      ],
      "text/plain": [
       "               Age         Income\n",
       "count  6520.000000    6520.000000\n",
       "mean     37.781288   50027.491334\n",
       "std      12.131749   20048.237170\n",
       "min      18.000000  -38932.640000\n",
       "25%      28.000000   36512.977500\n",
       "50%      37.000000   50029.210000\n",
       "75%      46.000000   63241.760000\n",
       "max      92.000000  126635.800000"
      ]
     },
     "execution_count": 57,
     "metadata": {},
     "output_type": "execute_result"
    }
   ],
   "source": [
    "# Split the data into training and testing sets\n",
    "X_train, X_test, y_train, y_test = train_test_split(X, y_clicks, random_state=42)\n",
    "X_train.describe()"
   ]
  },
  {
   "cell_type": "code",
   "execution_count": 58,
   "metadata": {},
   "outputs": [
    {
     "data": {
      "text/html": [
       "<div>\n",
       "<style scoped>\n",
       "    .dataframe tbody tr th:only-of-type {\n",
       "        vertical-align: middle;\n",
       "    }\n",
       "\n",
       "    .dataframe tbody tr th {\n",
       "        vertical-align: top;\n",
       "    }\n",
       "\n",
       "    .dataframe thead th {\n",
       "        text-align: right;\n",
       "    }\n",
       "</style>\n",
       "<table border=\"1\" class=\"dataframe\">\n",
       "  <thead>\n",
       "    <tr style=\"text-align: right;\">\n",
       "      <th></th>\n",
       "      <th>x0_Female</th>\n",
       "      <th>x0_Male</th>\n",
       "      <th>x0_Other</th>\n",
       "      <th>x0_Banner</th>\n",
       "      <th>x0_Native</th>\n",
       "      <th>x0_Text</th>\n",
       "      <th>x0_Video</th>\n",
       "      <th>x0_Fashion</th>\n",
       "      <th>x0_Finance</th>\n",
       "      <th>x0_Food</th>\n",
       "      <th>x0_Health</th>\n",
       "      <th>x0_Technology</th>\n",
       "      <th>x0_Travel</th>\n",
       "      <th>x0_Search Engine</th>\n",
       "      <th>x0_Social Media</th>\n",
       "      <th>x0_Website</th>\n",
       "      <th>Location</th>\n",
       "    </tr>\n",
       "  </thead>\n",
       "  <tbody>\n",
       "    <tr>\n",
       "      <th>0</th>\n",
       "      <td>0.0</td>\n",
       "      <td>0.0</td>\n",
       "      <td>1.0</td>\n",
       "      <td>0.0</td>\n",
       "      <td>1.0</td>\n",
       "      <td>0.0</td>\n",
       "      <td>0.0</td>\n",
       "      <td>0.0</td>\n",
       "      <td>0.0</td>\n",
       "      <td>0.0</td>\n",
       "      <td>1.0</td>\n",
       "      <td>0.0</td>\n",
       "      <td>0.0</td>\n",
       "      <td>1.0</td>\n",
       "      <td>0.0</td>\n",
       "      <td>0.0</td>\n",
       "      <td>1.0</td>\n",
       "    </tr>\n",
       "    <tr>\n",
       "      <th>1</th>\n",
       "      <td>0.0</td>\n",
       "      <td>1.0</td>\n",
       "      <td>0.0</td>\n",
       "      <td>0.0</td>\n",
       "      <td>1.0</td>\n",
       "      <td>0.0</td>\n",
       "      <td>0.0</td>\n",
       "      <td>0.0</td>\n",
       "      <td>1.0</td>\n",
       "      <td>0.0</td>\n",
       "      <td>0.0</td>\n",
       "      <td>0.0</td>\n",
       "      <td>0.0</td>\n",
       "      <td>0.0</td>\n",
       "      <td>1.0</td>\n",
       "      <td>0.0</td>\n",
       "      <td>2.0</td>\n",
       "    </tr>\n",
       "    <tr>\n",
       "      <th>2</th>\n",
       "      <td>0.0</td>\n",
       "      <td>0.0</td>\n",
       "      <td>1.0</td>\n",
       "      <td>0.0</td>\n",
       "      <td>1.0</td>\n",
       "      <td>0.0</td>\n",
       "      <td>0.0</td>\n",
       "      <td>1.0</td>\n",
       "      <td>0.0</td>\n",
       "      <td>0.0</td>\n",
       "      <td>0.0</td>\n",
       "      <td>0.0</td>\n",
       "      <td>0.0</td>\n",
       "      <td>0.0</td>\n",
       "      <td>0.0</td>\n",
       "      <td>1.0</td>\n",
       "      <td>1.0</td>\n",
       "    </tr>\n",
       "    <tr>\n",
       "      <th>3</th>\n",
       "      <td>0.0</td>\n",
       "      <td>1.0</td>\n",
       "      <td>0.0</td>\n",
       "      <td>0.0</td>\n",
       "      <td>1.0</td>\n",
       "      <td>0.0</td>\n",
       "      <td>0.0</td>\n",
       "      <td>0.0</td>\n",
       "      <td>0.0</td>\n",
       "      <td>0.0</td>\n",
       "      <td>0.0</td>\n",
       "      <td>1.0</td>\n",
       "      <td>0.0</td>\n",
       "      <td>0.0</td>\n",
       "      <td>1.0</td>\n",
       "      <td>0.0</td>\n",
       "      <td>1.0</td>\n",
       "    </tr>\n",
       "    <tr>\n",
       "      <th>4</th>\n",
       "      <td>0.0</td>\n",
       "      <td>1.0</td>\n",
       "      <td>0.0</td>\n",
       "      <td>1.0</td>\n",
       "      <td>0.0</td>\n",
       "      <td>0.0</td>\n",
       "      <td>0.0</td>\n",
       "      <td>0.0</td>\n",
       "      <td>0.0</td>\n",
       "      <td>0.0</td>\n",
       "      <td>0.0</td>\n",
       "      <td>0.0</td>\n",
       "      <td>1.0</td>\n",
       "      <td>0.0</td>\n",
       "      <td>0.0</td>\n",
       "      <td>1.0</td>\n",
       "      <td>1.0</td>\n",
       "    </tr>\n",
       "    <tr>\n",
       "      <th>...</th>\n",
       "      <td>...</td>\n",
       "      <td>...</td>\n",
       "      <td>...</td>\n",
       "      <td>...</td>\n",
       "      <td>...</td>\n",
       "      <td>...</td>\n",
       "      <td>...</td>\n",
       "      <td>...</td>\n",
       "      <td>...</td>\n",
       "      <td>...</td>\n",
       "      <td>...</td>\n",
       "      <td>...</td>\n",
       "      <td>...</td>\n",
       "      <td>...</td>\n",
       "      <td>...</td>\n",
       "      <td>...</td>\n",
       "      <td>...</td>\n",
       "    </tr>\n",
       "    <tr>\n",
       "      <th>6515</th>\n",
       "      <td>1.0</td>\n",
       "      <td>0.0</td>\n",
       "      <td>0.0</td>\n",
       "      <td>0.0</td>\n",
       "      <td>0.0</td>\n",
       "      <td>1.0</td>\n",
       "      <td>0.0</td>\n",
       "      <td>1.0</td>\n",
       "      <td>0.0</td>\n",
       "      <td>0.0</td>\n",
       "      <td>0.0</td>\n",
       "      <td>0.0</td>\n",
       "      <td>0.0</td>\n",
       "      <td>0.0</td>\n",
       "      <td>1.0</td>\n",
       "      <td>0.0</td>\n",
       "      <td>0.0</td>\n",
       "    </tr>\n",
       "    <tr>\n",
       "      <th>6516</th>\n",
       "      <td>0.0</td>\n",
       "      <td>0.0</td>\n",
       "      <td>1.0</td>\n",
       "      <td>0.0</td>\n",
       "      <td>0.0</td>\n",
       "      <td>1.0</td>\n",
       "      <td>0.0</td>\n",
       "      <td>0.0</td>\n",
       "      <td>0.0</td>\n",
       "      <td>0.0</td>\n",
       "      <td>0.0</td>\n",
       "      <td>1.0</td>\n",
       "      <td>0.0</td>\n",
       "      <td>0.0</td>\n",
       "      <td>0.0</td>\n",
       "      <td>1.0</td>\n",
       "      <td>2.0</td>\n",
       "    </tr>\n",
       "    <tr>\n",
       "      <th>6517</th>\n",
       "      <td>0.0</td>\n",
       "      <td>1.0</td>\n",
       "      <td>0.0</td>\n",
       "      <td>0.0</td>\n",
       "      <td>0.0</td>\n",
       "      <td>1.0</td>\n",
       "      <td>0.0</td>\n",
       "      <td>1.0</td>\n",
       "      <td>0.0</td>\n",
       "      <td>0.0</td>\n",
       "      <td>0.0</td>\n",
       "      <td>0.0</td>\n",
       "      <td>0.0</td>\n",
       "      <td>0.0</td>\n",
       "      <td>0.0</td>\n",
       "      <td>1.0</td>\n",
       "      <td>0.0</td>\n",
       "    </tr>\n",
       "    <tr>\n",
       "      <th>6518</th>\n",
       "      <td>1.0</td>\n",
       "      <td>0.0</td>\n",
       "      <td>0.0</td>\n",
       "      <td>0.0</td>\n",
       "      <td>0.0</td>\n",
       "      <td>1.0</td>\n",
       "      <td>0.0</td>\n",
       "      <td>0.0</td>\n",
       "      <td>1.0</td>\n",
       "      <td>0.0</td>\n",
       "      <td>0.0</td>\n",
       "      <td>0.0</td>\n",
       "      <td>0.0</td>\n",
       "      <td>0.0</td>\n",
       "      <td>0.0</td>\n",
       "      <td>1.0</td>\n",
       "      <td>0.0</td>\n",
       "    </tr>\n",
       "    <tr>\n",
       "      <th>6519</th>\n",
       "      <td>0.0</td>\n",
       "      <td>1.0</td>\n",
       "      <td>0.0</td>\n",
       "      <td>1.0</td>\n",
       "      <td>0.0</td>\n",
       "      <td>0.0</td>\n",
       "      <td>0.0</td>\n",
       "      <td>0.0</td>\n",
       "      <td>0.0</td>\n",
       "      <td>1.0</td>\n",
       "      <td>0.0</td>\n",
       "      <td>0.0</td>\n",
       "      <td>0.0</td>\n",
       "      <td>0.0</td>\n",
       "      <td>0.0</td>\n",
       "      <td>1.0</td>\n",
       "      <td>0.0</td>\n",
       "    </tr>\n",
       "  </tbody>\n",
       "</table>\n",
       "<p>6520 rows × 17 columns</p>\n",
       "</div>"
      ],
      "text/plain": [
       "      x0_Female  x0_Male  x0_Other  x0_Banner  x0_Native  x0_Text  x0_Video  \\\n",
       "0           0.0      0.0       1.0        0.0        1.0      0.0       0.0   \n",
       "1           0.0      1.0       0.0        0.0        1.0      0.0       0.0   \n",
       "2           0.0      0.0       1.0        0.0        1.0      0.0       0.0   \n",
       "3           0.0      1.0       0.0        0.0        1.0      0.0       0.0   \n",
       "4           0.0      1.0       0.0        1.0        0.0      0.0       0.0   \n",
       "...         ...      ...       ...        ...        ...      ...       ...   \n",
       "6515        1.0      0.0       0.0        0.0        0.0      1.0       0.0   \n",
       "6516        0.0      0.0       1.0        0.0        0.0      1.0       0.0   \n",
       "6517        0.0      1.0       0.0        0.0        0.0      1.0       0.0   \n",
       "6518        1.0      0.0       0.0        0.0        0.0      1.0       0.0   \n",
       "6519        0.0      1.0       0.0        1.0        0.0      0.0       0.0   \n",
       "\n",
       "      x0_Fashion  x0_Finance  x0_Food  x0_Health  x0_Technology  x0_Travel  \\\n",
       "0            0.0         0.0      0.0        1.0            0.0        0.0   \n",
       "1            0.0         1.0      0.0        0.0            0.0        0.0   \n",
       "2            1.0         0.0      0.0        0.0            0.0        0.0   \n",
       "3            0.0         0.0      0.0        0.0            1.0        0.0   \n",
       "4            0.0         0.0      0.0        0.0            0.0        1.0   \n",
       "...          ...         ...      ...        ...            ...        ...   \n",
       "6515         1.0         0.0      0.0        0.0            0.0        0.0   \n",
       "6516         0.0         0.0      0.0        0.0            1.0        0.0   \n",
       "6517         1.0         0.0      0.0        0.0            0.0        0.0   \n",
       "6518         0.0         1.0      0.0        0.0            0.0        0.0   \n",
       "6519         0.0         0.0      1.0        0.0            0.0        0.0   \n",
       "\n",
       "      x0_Search Engine  x0_Social Media  x0_Website  Location  \n",
       "0                  1.0              0.0         0.0       1.0  \n",
       "1                  0.0              1.0         0.0       2.0  \n",
       "2                  0.0              0.0         1.0       1.0  \n",
       "3                  0.0              1.0         0.0       1.0  \n",
       "4                  0.0              0.0         1.0       1.0  \n",
       "...                ...              ...         ...       ...  \n",
       "6515               0.0              1.0         0.0       0.0  \n",
       "6516               0.0              0.0         1.0       2.0  \n",
       "6517               0.0              0.0         1.0       0.0  \n",
       "6518               0.0              0.0         1.0       0.0  \n",
       "6519               0.0              0.0         1.0       0.0  \n",
       "\n",
       "[6520 rows x 17 columns]"
      ]
     },
     "execution_count": 58,
     "metadata": {},
     "output_type": "execute_result"
    }
   ],
   "source": [
    "# Encode the X data with the X_preprocess function\n",
    "X_train_encoded = X_preprocess(X_train)\n",
    "X_test_encoded = X_preprocess(X_test)\n",
    "X_train_encoded"
   ]
  },
  {
   "cell_type": "code",
   "execution_count": 59,
   "metadata": {},
   "outputs": [
    {
     "data": {
      "text/plain": [
       "array([[-0.80635919, -1.00184219,  2.91860381, ..., -0.70751352,\n",
       "        -0.70483051,  0.00320507],\n",
       "       [-0.80635919,  0.9981612 , -0.34262958, ...,  1.41340056,\n",
       "        -0.70483051,  1.23244208],\n",
       "       [-0.80635919, -1.00184219,  2.91860381, ..., -0.70751352,\n",
       "         1.41878082,  0.00320507],\n",
       "       ...,\n",
       "       [-0.80635919,  0.9981612 , -0.34262958, ..., -0.70751352,\n",
       "         1.41878082, -1.22603195],\n",
       "       [ 1.24014213, -1.00184219, -0.34262958, ..., -0.70751352,\n",
       "         1.41878082, -1.22603195],\n",
       "       [-0.80635919,  0.9981612 , -0.34262958, ..., -0.70751352,\n",
       "         1.41878082, -1.22603195]])"
      ]
     },
     "execution_count": 59,
     "metadata": {},
     "output_type": "execute_result"
    }
   ],
   "source": [
    "from sklearn.preprocessing import StandardScaler\n",
    "# Scale the X data by using StandardScaler()\n",
    "scaler = StandardScaler().fit(X_train_encoded)\n",
    "X_train_scaled = scaler.transform(X_train_encoded)\n",
    "X_test_scaled = scaler.transform(X_test_encoded)\n",
    "X_train_scaled"
   ]
  },
  {
   "cell_type": "code",
   "execution_count": 60,
   "metadata": {},
   "outputs": [
    {
     "data": {
      "text/plain": [
       "Clicks\n",
       "Yes    6460\n",
       "No       60\n",
       "Name: count, dtype: int64"
      ]
     },
     "execution_count": 60,
     "metadata": {},
     "output_type": "execute_result"
    }
   ],
   "source": [
    "# Encoding the clicks column using a custom function\n",
    "def encode_clicks(clicks):\n",
    "    if clicks > 0:\n",
    "        return \"Yes\"\n",
    "    else:\n",
    "        return \"No\"\n",
    "# Applying the function to y_train and y_test\n",
    "y_train_encoded = y_train.apply(encode_clicks)\n",
    "y_test_encoded = y_test.apply(encode_clicks)\n",
    "y_train_encoded.value_counts()"
   ]
  },
  {
   "cell_type": "code",
   "execution_count": 61,
   "metadata": {},
   "outputs": [
    {
     "data": {
      "text/html": [
       "<style>#sk-container-id-1 {color: black;}#sk-container-id-1 pre{padding: 0;}#sk-container-id-1 div.sk-toggleable {background-color: white;}#sk-container-id-1 label.sk-toggleable__label {cursor: pointer;display: block;width: 100%;margin-bottom: 0;padding: 0.3em;box-sizing: border-box;text-align: center;}#sk-container-id-1 label.sk-toggleable__label-arrow:before {content: \"▸\";float: left;margin-right: 0.25em;color: #696969;}#sk-container-id-1 label.sk-toggleable__label-arrow:hover:before {color: black;}#sk-container-id-1 div.sk-estimator:hover label.sk-toggleable__label-arrow:before {color: black;}#sk-container-id-1 div.sk-toggleable__content {max-height: 0;max-width: 0;overflow: hidden;text-align: left;background-color: #f0f8ff;}#sk-container-id-1 div.sk-toggleable__content pre {margin: 0.2em;color: black;border-radius: 0.25em;background-color: #f0f8ff;}#sk-container-id-1 input.sk-toggleable__control:checked~div.sk-toggleable__content {max-height: 200px;max-width: 100%;overflow: auto;}#sk-container-id-1 input.sk-toggleable__control:checked~label.sk-toggleable__label-arrow:before {content: \"▾\";}#sk-container-id-1 div.sk-estimator input.sk-toggleable__control:checked~label.sk-toggleable__label {background-color: #d4ebff;}#sk-container-id-1 div.sk-label input.sk-toggleable__control:checked~label.sk-toggleable__label {background-color: #d4ebff;}#sk-container-id-1 input.sk-hidden--visually {border: 0;clip: rect(1px 1px 1px 1px);clip: rect(1px, 1px, 1px, 1px);height: 1px;margin: -1px;overflow: hidden;padding: 0;position: absolute;width: 1px;}#sk-container-id-1 div.sk-estimator {font-family: monospace;background-color: #f0f8ff;border: 1px dotted black;border-radius: 0.25em;box-sizing: border-box;margin-bottom: 0.5em;}#sk-container-id-1 div.sk-estimator:hover {background-color: #d4ebff;}#sk-container-id-1 div.sk-parallel-item::after {content: \"\";width: 100%;border-bottom: 1px solid gray;flex-grow: 1;}#sk-container-id-1 div.sk-label:hover label.sk-toggleable__label {background-color: #d4ebff;}#sk-container-id-1 div.sk-serial::before {content: \"\";position: absolute;border-left: 1px solid gray;box-sizing: border-box;top: 0;bottom: 0;left: 50%;z-index: 0;}#sk-container-id-1 div.sk-serial {display: flex;flex-direction: column;align-items: center;background-color: white;padding-right: 0.2em;padding-left: 0.2em;position: relative;}#sk-container-id-1 div.sk-item {position: relative;z-index: 1;}#sk-container-id-1 div.sk-parallel {display: flex;align-items: stretch;justify-content: center;background-color: white;position: relative;}#sk-container-id-1 div.sk-item::before, #sk-container-id-1 div.sk-parallel-item::before {content: \"\";position: absolute;border-left: 1px solid gray;box-sizing: border-box;top: 0;bottom: 0;left: 50%;z-index: -1;}#sk-container-id-1 div.sk-parallel-item {display: flex;flex-direction: column;z-index: 1;position: relative;background-color: white;}#sk-container-id-1 div.sk-parallel-item:first-child::after {align-self: flex-end;width: 50%;}#sk-container-id-1 div.sk-parallel-item:last-child::after {align-self: flex-start;width: 50%;}#sk-container-id-1 div.sk-parallel-item:only-child::after {width: 0;}#sk-container-id-1 div.sk-dashed-wrapped {border: 1px dashed gray;margin: 0 0.4em 0.5em 0.4em;box-sizing: border-box;padding-bottom: 0.4em;background-color: white;}#sk-container-id-1 div.sk-label label {font-family: monospace;font-weight: bold;display: inline-block;line-height: 1.2em;}#sk-container-id-1 div.sk-label-container {text-align: center;}#sk-container-id-1 div.sk-container {/* jupyter's `normalize.less` sets `[hidden] { display: none; }` but bootstrap.min.css set `[hidden] { display: none !important; }` so we also need the `!important` here to be able to override the default hidden behavior on the sphinx rendered scikit-learn.org. See: https://github.com/scikit-learn/scikit-learn/issues/21755 */display: inline-block !important;position: relative;}#sk-container-id-1 div.sk-text-repr-fallback {display: none;}</style><div id=\"sk-container-id-1\" class=\"sk-top-container\"><div class=\"sk-text-repr-fallback\"><pre>RandomForestClassifier()</pre><b>In a Jupyter environment, please rerun this cell to show the HTML representation or trust the notebook. <br />On GitHub, the HTML representation is unable to render, please try loading this page with nbviewer.org.</b></div><div class=\"sk-container\" hidden><div class=\"sk-item\"><div class=\"sk-estimator sk-toggleable\"><input class=\"sk-toggleable__control sk-hidden--visually\" id=\"sk-estimator-id-1\" type=\"checkbox\" checked><label for=\"sk-estimator-id-1\" class=\"sk-toggleable__label sk-toggleable__label-arrow\">RandomForestClassifier</label><div class=\"sk-toggleable__content\"><pre>RandomForestClassifier()</pre></div></div></div></div></div>"
      ],
      "text/plain": [
       "RandomForestClassifier()"
      ]
     },
     "execution_count": 61,
     "metadata": {},
     "output_type": "execute_result"
    }
   ],
   "source": [
    "# Import the RandomForestClassifier from sklearn\n",
    "from sklearn.ensemble import RandomForestClassifier\n",
    "\n",
    "# Instantiate a RandomForestClassifier instance\n",
    "model = RandomForestClassifier()\n",
    "\n",
    "# Fit the traning data to the model\n",
    "model.fit(X_train_scaled, y_train_encoded)"
   ]
  },
  {
   "cell_type": "code",
   "execution_count": 62,
   "metadata": {},
   "outputs": [],
   "source": [
    "# Predict labels for original scaled testing features\n",
    "y_pred = model.predict(X_test_scaled)"
   ]
  },
  {
   "cell_type": "code",
   "execution_count": 63,
   "metadata": {},
   "outputs": [
    {
     "data": {
      "text/html": [
       "<div>\n",
       "<style scoped>\n",
       "    .dataframe tbody tr th:only-of-type {\n",
       "        vertical-align: middle;\n",
       "    }\n",
       "\n",
       "    .dataframe tbody tr th {\n",
       "        vertical-align: top;\n",
       "    }\n",
       "\n",
       "    .dataframe thead th {\n",
       "        text-align: right;\n",
       "    }\n",
       "</style>\n",
       "<table border=\"1\" class=\"dataframe\">\n",
       "  <thead>\n",
       "    <tr style=\"text-align: right;\">\n",
       "      <th></th>\n",
       "      <th>train</th>\n",
       "      <th>test</th>\n",
       "    </tr>\n",
       "    <tr>\n",
       "      <th>depth</th>\n",
       "      <th></th>\n",
       "      <th></th>\n",
       "    </tr>\n",
       "  </thead>\n",
       "  <tbody>\n",
       "    <tr>\n",
       "      <th>1</th>\n",
       "      <td>0.990798</td>\n",
       "      <td>0.99448</td>\n",
       "    </tr>\n",
       "    <tr>\n",
       "      <th>2</th>\n",
       "      <td>0.990798</td>\n",
       "      <td>0.99448</td>\n",
       "    </tr>\n",
       "    <tr>\n",
       "      <th>3</th>\n",
       "      <td>0.990798</td>\n",
       "      <td>0.99448</td>\n",
       "    </tr>\n",
       "    <tr>\n",
       "      <th>4</th>\n",
       "      <td>0.990798</td>\n",
       "      <td>0.99448</td>\n",
       "    </tr>\n",
       "    <tr>\n",
       "      <th>5</th>\n",
       "      <td>0.990798</td>\n",
       "      <td>0.99448</td>\n",
       "    </tr>\n",
       "  </tbody>\n",
       "</table>\n",
       "</div>"
      ],
      "text/plain": [
       "          train     test\n",
       "depth                   \n",
       "1      0.990798  0.99448\n",
       "2      0.990798  0.99448\n",
       "3      0.990798  0.99448\n",
       "4      0.990798  0.99448\n",
       "5      0.990798  0.99448"
      ]
     },
     "execution_count": 63,
     "metadata": {},
     "output_type": "execute_result"
    }
   ],
   "source": [
    "# Create a loop to vary the max_depth parameter\n",
    "# Make sure to record the train and test scores \n",
    "# for each pass.\n",
    "\n",
    "# Depths should span from 1 up to 15 in steps of 1\n",
    "depths = range(1, 15)\n",
    "\n",
    "# The scores dataframe will hold depths and scores\n",
    "# to make plotting easy\n",
    "scores = {\"train\":[], \"test\":[], \"depth\":[]}\n",
    "\n",
    "# Loop through each depth\n",
    "for depth in depths:\n",
    "    clf = RandomForestClassifier(max_depth=depth)\n",
    "    clf.fit(X_train_scaled, y_train_encoded)\n",
    "\n",
    "    train_score = clf.score(X_train_scaled, y_train_encoded)\n",
    "    test_score = clf.score(X_test_scaled, y_test_encoded)\n",
    "\n",
    "    scores[\"depth\"].append(depth)\n",
    "    scores[\"train\"].append(train_score)\n",
    "    scores[\"test\"].append(test_score)\n",
    "\n",
    "# Create a dataframe from the scores dictionary and\n",
    "# set the index to depth\n",
    "scores_df = pd.DataFrame(scores).set_index(\"depth\")\n",
    "scores_df.head()"
   ]
  },
  {
   "cell_type": "code",
   "execution_count": 64,
   "metadata": {},
   "outputs": [
    {
     "data": {
      "text/plain": [
       "<Axes: xlabel='depth'>"
      ]
     },
     "execution_count": 64,
     "metadata": {},
     "output_type": "execute_result"
    },
    {
     "data": {
      "image/png": "[encoded data removed]",
      "text/plain": [
       "<Figure size 640x480 with 1 Axes>"
      ]
     },
     "metadata": {},
     "output_type": "display_data"
    }
   ],
   "source": [
    "# Plot the scores dataframe with the plot method\n",
    "scores_df.plot()"
   ]
  },
  {
   "cell_type": "code",
   "execution_count": 65,
   "metadata": {},
   "outputs": [
    {
     "data": {
      "text/plain": [
       "Clicks\n",
       "Yes    6460\n",
       "No     6460\n",
       "Name: count, dtype: int64"
      ]
     },
     "execution_count": 65,
     "metadata": {},
     "output_type": "execute_result"
    }
   ],
   "source": [
    "# Import RandomOverSampler from imblearn\n",
    "from imblearn.over_sampling import RandomOverSampler\n",
    "\n",
    "# Instantiate a RandomOversampler instance\n",
    "ros = RandomOverSampler(random_state=1)\n",
    "\n",
    "# Fit the training data to the `RandomOverSampler` model\n",
    "X_resampled, y_resampled = ros.fit_resample(X_train_scaled, y_train_encoded)\n",
    "\n",
    "# Count distinct values\n",
    "y_resampled.value_counts()"
   ]
  },
  {
   "cell_type": "code",
   "execution_count": 66,
   "metadata": {},
   "outputs": [
    {
     "data": {
      "text/html": [
       "<style>#sk-container-id-2 {color: black;}#sk-container-id-2 pre{padding: 0;}#sk-container-id-2 div.sk-toggleable {background-color: white;}#sk-container-id-2 label.sk-toggleable__label {cursor: pointer;display: block;width: 100%;margin-bottom: 0;padding: 0.3em;box-sizing: border-box;text-align: center;}#sk-container-id-2 label.sk-toggleable__label-arrow:before {content: \"▸\";float: left;margin-right: 0.25em;color: #696969;}#sk-container-id-2 label.sk-toggleable__label-arrow:hover:before {color: black;}#sk-container-id-2 div.sk-estimator:hover label.sk-toggleable__label-arrow:before {color: black;}#sk-container-id-2 div.sk-toggleable__content {max-height: 0;max-width: 0;overflow: hidden;text-align: left;background-color: #f0f8ff;}#sk-container-id-2 div.sk-toggleable__content pre {margin: 0.2em;color: black;border-radius: 0.25em;background-color: #f0f8ff;}#sk-container-id-2 input.sk-toggleable__control:checked~div.sk-toggleable__content {max-height: 200px;max-width: 100%;overflow: auto;}#sk-container-id-2 input.sk-toggleable__control:checked~label.sk-toggleable__label-arrow:before {content: \"▾\";}#sk-container-id-2 div.sk-estimator input.sk-toggleable__control:checked~label.sk-toggleable__label {background-color: #d4ebff;}#sk-container-id-2 div.sk-label input.sk-toggleable__control:checked~label.sk-toggleable__label {background-color: #d4ebff;}#sk-container-id-2 input.sk-hidden--visually {border: 0;clip: rect(1px 1px 1px 1px);clip: rect(1px, 1px, 1px, 1px);height: 1px;margin: -1px;overflow: hidden;padding: 0;position: absolute;width: 1px;}#sk-container-id-2 div.sk-estimator {font-family: monospace;background-color: #f0f8ff;border: 1px dotted black;border-radius: 0.25em;box-sizing: border-box;margin-bottom: 0.5em;}#sk-container-id-2 div.sk-estimator:hover {background-color: #d4ebff;}#sk-container-id-2 div.sk-parallel-item::after {content: \"\";width: 100%;border-bottom: 1px solid gray;flex-grow: 1;}#sk-container-id-2 div.sk-label:hover label.sk-toggleable__label {background-color: #d4ebff;}#sk-container-id-2 div.sk-serial::before {content: \"\";position: absolute;border-left: 1px solid gray;box-sizing: border-box;top: 0;bottom: 0;left: 50%;z-index: 0;}#sk-container-id-2 div.sk-serial {display: flex;flex-direction: column;align-items: center;background-color: white;padding-right: 0.2em;padding-left: 0.2em;position: relative;}#sk-container-id-2 div.sk-item {position: relative;z-index: 1;}#sk-container-id-2 div.sk-parallel {display: flex;align-items: stretch;justify-content: center;background-color: white;position: relative;}#sk-container-id-2 div.sk-item::before, #sk-container-id-2 div.sk-parallel-item::before {content: \"\";position: absolute;border-left: 1px solid gray;box-sizing: border-box;top: 0;bottom: 0;left: 50%;z-index: -1;}#sk-container-id-2 div.sk-parallel-item {display: flex;flex-direction: column;z-index: 1;position: relative;background-color: white;}#sk-container-id-2 div.sk-parallel-item:first-child::after {align-self: flex-end;width: 50%;}#sk-container-id-2 div.sk-parallel-item:last-child::after {align-self: flex-start;width: 50%;}#sk-container-id-2 div.sk-parallel-item:only-child::after {width: 0;}#sk-container-id-2 div.sk-dashed-wrapped {border: 1px dashed gray;margin: 0 0.4em 0.5em 0.4em;box-sizing: border-box;padding-bottom: 0.4em;background-color: white;}#sk-container-id-2 div.sk-label label {font-family: monospace;font-weight: bold;display: inline-block;line-height: 1.2em;}#sk-container-id-2 div.sk-label-container {text-align: center;}#sk-container-id-2 div.sk-container {/* jupyter's `normalize.less` sets `[hidden] { display: none; }` but bootstrap.min.css set `[hidden] { display: none !important; }` so we also need the `!important` here to be able to override the default hidden behavior on the sphinx rendered scikit-learn.org. See: https://github.com/scikit-learn/scikit-learn/issues/21755 */display: inline-block !important;position: relative;}#sk-container-id-2 div.sk-text-repr-fallback {display: none;}</style><div id=\"sk-container-id-2\" class=\"sk-top-container\"><div class=\"sk-text-repr-fallback\"><pre>RandomForestClassifier()</pre><b>In a Jupyter environment, please rerun this cell to show the HTML representation or trust the notebook. <br />On GitHub, the HTML representation is unable to render, please try loading this page with nbviewer.org.</b></div><div class=\"sk-container\" hidden><div class=\"sk-item\"><div class=\"sk-estimator sk-toggleable\"><input class=\"sk-toggleable__control sk-hidden--visually\" id=\"sk-estimator-id-2\" type=\"checkbox\" checked><label for=\"sk-estimator-id-2\" class=\"sk-toggleable__label sk-toggleable__label-arrow\">RandomForestClassifier</label><div class=\"sk-toggleable__content\"><pre>RandomForestClassifier()</pre></div></div></div></div></div>"
      ],
      "text/plain": [
       "RandomForestClassifier()"
      ]
     },
     "execution_count": 66,
     "metadata": {},
     "output_type": "execute_result"
    }
   ],
   "source": [
    "# Instantiate a new RandomForestClassier model\n",
    "model_oversampled = RandomForestClassifier()\n",
    "\n",
    "# Fit the oversampled data the new model\n",
    "model_oversampled.fit(X_resampled, y_resampled)"
   ]
  },
  {
   "cell_type": "code",
   "execution_count": 67,
   "metadata": {},
   "outputs": [],
   "source": [
    "# Predict labels for oversampled testing features\n",
    "y_pred_oversampled = model_oversampled.predict(X_test_scaled)"
   ]
  },
  {
   "cell_type": "code",
   "execution_count": 68,
   "metadata": {},
   "outputs": [
    {
     "name": "stdout",
     "output_type": "stream",
     "text": [
      "Classification Report - Original Data\n",
      "              precision    recall  f1-score   support\n",
      "\n",
      "          No       0.00      0.00      0.00        12\n",
      "         Yes       0.99      1.00      1.00      2162\n",
      "\n",
      "    accuracy                           0.99      2174\n",
      "   macro avg       0.50      0.50      0.50      2174\n",
      "weighted avg       0.99      0.99      0.99      2174\n",
      "\n",
      "---------\n",
      "Classification Report - Oversampled Data\n",
      "              precision    recall  f1-score   support\n",
      "\n",
      "          No       0.00      0.00      0.00        12\n",
      "         Yes       0.99      0.91      0.95      2162\n",
      "\n",
      "    accuracy                           0.90      2174\n",
      "   macro avg       0.50      0.45      0.47      2174\n",
      "weighted avg       0.99      0.90      0.94      2174\n",
      "\n"
     ]
    }
   ],
   "source": [
    "from sklearn.metrics import classification_report\n",
    "\n",
    "# Print classification reports\n",
    "print(f\"Classification Report - Original Data\")\n",
    "print(classification_report(y_test_encoded, y_pred))\n",
    "print(\"---------\")\n",
    "print(f\"Classification Report - Oversampled Data\")\n",
    "print(classification_report(y_test_encoded, y_pred_oversampled))"
   ]
  },
  {
   "cell_type": "code",
   "execution_count": 69,
   "metadata": {},
   "outputs": [
    {
     "data": {
      "text/plain": [
       "Clicks\n",
       "No     60\n",
       "Yes    60\n",
       "Name: count, dtype: int64"
      ]
     },
     "execution_count": 69,
     "metadata": {},
     "output_type": "execute_result"
    }
   ],
   "source": [
    "# Import RandomUnderSampler from imblearn\n",
    "from imblearn.under_sampling import RandomUnderSampler\n",
    "\n",
    "# Instantiate a RandomUnderSampler instance\n",
    "rus = RandomUnderSampler(random_state=1)\n",
    "# Fit the training data to the random undersampler model\n",
    "X_resampled, y_resampled = rus.fit_resample(X_train_scaled, y_train_encoded)\n",
    "# Count distinct values for the resampled target data\n",
    "y_resampled.value_counts()"
   ]
  },
  {
   "cell_type": "code",
   "execution_count": 70,
   "metadata": {},
   "outputs": [
    {
     "data": {
      "text/html": [
       "<style>#sk-container-id-3 {color: black;}#sk-container-id-3 pre{padding: 0;}#sk-container-id-3 div.sk-toggleable {background-color: white;}#sk-container-id-3 label.sk-toggleable__label {cursor: pointer;display: block;width: 100%;margin-bottom: 0;padding: 0.3em;box-sizing: border-box;text-align: center;}#sk-container-id-3 label.sk-toggleable__label-arrow:before {content: \"▸\";float: left;margin-right: 0.25em;color: #696969;}#sk-container-id-3 label.sk-toggleable__label-arrow:hover:before {color: black;}#sk-container-id-3 div.sk-estimator:hover label.sk-toggleable__label-arrow:before {color: black;}#sk-container-id-3 div.sk-toggleable__content {max-height: 0;max-width: 0;overflow: hidden;text-align: left;background-color: #f0f8ff;}#sk-container-id-3 div.sk-toggleable__content pre {margin: 0.2em;color: black;border-radius: 0.25em;background-color: #f0f8ff;}#sk-container-id-3 input.sk-toggleable__control:checked~div.sk-toggleable__content {max-height: 200px;max-width: 100%;overflow: auto;}#sk-container-id-3 input.sk-toggleable__control:checked~label.sk-toggleable__label-arrow:before {content: \"▾\";}#sk-container-id-3 div.sk-estimator input.sk-toggleable__control:checked~label.sk-toggleable__label {background-color: #d4ebff;}#sk-container-id-3 div.sk-label input.sk-toggleable__control:checked~label.sk-toggleable__label {background-color: #d4ebff;}#sk-container-id-3 input.sk-hidden--visually {border: 0;clip: rect(1px 1px 1px 1px);clip: rect(1px, 1px, 1px, 1px);height: 1px;margin: -1px;overflow: hidden;padding: 0;position: absolute;width: 1px;}#sk-container-id-3 div.sk-estimator {font-family: monospace;background-color: #f0f8ff;border: 1px dotted black;border-radius: 0.25em;box-sizing: border-box;margin-bottom: 0.5em;}#sk-container-id-3 div.sk-estimator:hover {background-color: #d4ebff;}#sk-container-id-3 div.sk-parallel-item::after {content: \"\";width: 100%;border-bottom: 1px solid gray;flex-grow: 1;}#sk-container-id-3 div.sk-label:hover label.sk-toggleable__label {background-color: #d4ebff;}#sk-container-id-3 div.sk-serial::before {content: \"\";position: absolute;border-left: 1px solid gray;box-sizing: border-box;top: 0;bottom: 0;left: 50%;z-index: 0;}#sk-container-id-3 div.sk-serial {display: flex;flex-direction: column;align-items: center;background-color: white;padding-right: 0.2em;padding-left: 0.2em;position: relative;}#sk-container-id-3 div.sk-item {position: relative;z-index: 1;}#sk-container-id-3 div.sk-parallel {display: flex;align-items: stretch;justify-content: center;background-color: white;position: relative;}#sk-container-id-3 div.sk-item::before, #sk-container-id-3 div.sk-parallel-item::before {content: \"\";position: absolute;border-left: 1px solid gray;box-sizing: border-box;top: 0;bottom: 0;left: 50%;z-index: -1;}#sk-container-id-3 div.sk-parallel-item {display: flex;flex-direction: column;z-index: 1;position: relative;background-color: white;}#sk-container-id-3 div.sk-parallel-item:first-child::after {align-self: flex-end;width: 50%;}#sk-container-id-3 div.sk-parallel-item:last-child::after {align-self: flex-start;width: 50%;}#sk-container-id-3 div.sk-parallel-item:only-child::after {width: 0;}#sk-container-id-3 div.sk-dashed-wrapped {border: 1px dashed gray;margin: 0 0.4em 0.5em 0.4em;box-sizing: border-box;padding-bottom: 0.4em;background-color: white;}#sk-container-id-3 div.sk-label label {font-family: monospace;font-weight: bold;display: inline-block;line-height: 1.2em;}#sk-container-id-3 div.sk-label-container {text-align: center;}#sk-container-id-3 div.sk-container {/* jupyter's `normalize.less` sets `[hidden] { display: none; }` but bootstrap.min.css set `[hidden] { display: none !important; }` so we also need the `!important` here to be able to override the default hidden behavior on the sphinx rendered scikit-learn.org. See: https://github.com/scikit-learn/scikit-learn/issues/21755 */display: inline-block !important;position: relative;}#sk-container-id-3 div.sk-text-repr-fallback {display: none;}</style><div id=\"sk-container-id-3\" class=\"sk-top-container\"><div class=\"sk-text-repr-fallback\"><pre>LogisticRegression()</pre><b>In a Jupyter environment, please rerun this cell to show the HTML representation or trust the notebook. <br />On GitHub, the HTML representation is unable to render, please try loading this page with nbviewer.org.</b></div><div class=\"sk-container\" hidden><div class=\"sk-item\"><div class=\"sk-estimator sk-toggleable\"><input class=\"sk-toggleable__control sk-hidden--visually\" id=\"sk-estimator-id-3\" type=\"checkbox\" checked><label for=\"sk-estimator-id-3\" class=\"sk-toggleable__label sk-toggleable__label-arrow\">LogisticRegression</label><div class=\"sk-toggleable__content\"><pre>LogisticRegression()</pre></div></div></div></div></div>"
      ],
      "text/plain": [
       "LogisticRegression()"
      ]
     },
     "execution_count": 70,
     "metadata": {},
     "output_type": "execute_result"
    }
   ],
   "source": [
    "from sklearn.linear_model import LogisticRegression\n",
    "# Instantiate a new RandomForestClassier model\n",
    "model_undersampled = LogisticRegression()\n",
    "\n",
    "# Fit the undersampled data the new model\n",
    "model_undersampled.fit(X_resampled, y_resampled)"
   ]
  },
  {
   "cell_type": "code",
   "execution_count": 71,
   "metadata": {},
   "outputs": [],
   "source": [
    "# Predict labels for oversampled testing features\n",
    "y_pred_undersampled = model_undersampled.predict(X_test_scaled)"
   ]
  },
  {
   "cell_type": "code",
   "execution_count": 72,
   "metadata": {},
   "outputs": [
    {
     "name": "stdout",
     "output_type": "stream",
     "text": [
      "Classification Report - Original Data\n",
      "              precision    recall  f1-score   support\n",
      "\n",
      "          No       0.00      0.00      0.00        12\n",
      "         Yes       0.99      1.00      1.00      2162\n",
      "\n",
      "    accuracy                           0.99      2174\n",
      "   macro avg       0.50      0.50      0.50      2174\n",
      "weighted avg       0.99      0.99      0.99      2174\n",
      "\n",
      "---------\n",
      "Classification Report - Undersampled Data\n",
      "              precision    recall  f1-score   support\n",
      "\n",
      "          No       0.01      0.58      0.01        12\n",
      "         Yes       1.00      0.46      0.63      2162\n",
      "\n",
      "    accuracy                           0.47      2174\n",
      "   macro avg       0.50      0.52      0.32      2174\n",
      "weighted avg       0.99      0.47      0.63      2174\n",
      "\n"
     ]
    }
   ],
   "source": [
    "# Print classification reports\n",
    "print(f\"Classification Report - Original Data\")\n",
    "print(classification_report(y_test_encoded, y_pred))\n",
    "print(\"---------\")\n",
    "print(f\"Classification Report - Undersampled Data\")\n",
    "print(classification_report(y_test_encoded, y_pred_undersampled))"
   ]
  },
  {
   "cell_type": "markdown",
   "metadata": {},
   "source": [
    "## Question 4: What is the most desirable ad?\n",
    "Summary"
   ]
  },
  {
   "cell_type": "code",
   "execution_count": null,
   "metadata": {},
   "outputs": [],
   "source": []
  }
 ],
 "metadata": {
  "kernelspec": {
   "display_name": "dev",
   "language": "python",
   "name": "python3"
  },
  "language_info": {
   "codemirror_mode": {
    "name": "ipython",
    "version": 3
   },
   "file_extension": ".py",
   "mimetype": "text/x-python",
   "name": "python",
   "nbconvert_exporter": "python",
   "pygments_lexer": "ipython3",
   "version": "3.10.13"
  }
 },
 "nbformat": 4,
 "nbformat_minor": 2
}
